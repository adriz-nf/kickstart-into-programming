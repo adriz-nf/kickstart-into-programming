{
 "cells": [
  {
   "cell_type": "markdown",
   "metadata": {},
   "source": [
    "# Lists\n",
    "\n",
    "From a high level, lists are collections of ordered items. These items can be of any type, and a list can contain items of different types (or all the same type). \n",
    "Lists are pretty useful to iterate through.\n",
    "You already got in contact with the idea of lists. Some parts here will be already familiar to you, but you will also find some more details and ways to handle them.\n",
    "\n",
    "## Objectives\n",
    "\n",
    "At the end of this notebook you should be able to:\n",
    "\n",
    "- create lists and access individual elements in lists\n",
    "- use list operations\n",
    "- iterate through lists with for loops\n",
    "\n",
    "\n",
    "## Create New Lists\n",
    "\n",
    "You can construct a list in one of two ways. The first way should look already familiar to you: The first is simply by passing an arbitrary number of items into square brackets, `[]`, separated by commas. The second is by passing an iterable into the `list()` constructor (we'll discuss exactly what an iterable and constructor are later). For example..."
   ]
  },
  {
   "cell_type": "code",
   "execution_count": 1,
   "metadata": {},
   "outputs": [],
   "source": [
    "my_first_lst = [1, 'hello', 3, 'goodbye']"
   ]
  },
  {
   "cell_type": "code",
   "execution_count": 2,
   "metadata": {},
   "outputs": [
    {
     "data": {
      "text/plain": [
       "[1, 'hello', 3, 'goodbye']"
      ]
     },
     "execution_count": 2,
     "metadata": {},
     "output_type": "execute_result"
    }
   ],
   "source": [
    "my_first_lst"
   ]
  },
  {
   "cell_type": "code",
   "execution_count": 3,
   "metadata": {},
   "outputs": [],
   "source": [
    "my_second_lst = list('hello')"
   ]
  },
  {
   "cell_type": "code",
   "execution_count": 4,
   "metadata": {},
   "outputs": [
    {
     "data": {
      "text/plain": [
       "['h', 'e', 'l', 'l', 'o']"
      ]
     },
     "execution_count": 4,
     "metadata": {},
     "output_type": "execute_result"
    }
   ],
   "source": [
    "my_second_lst"
   ]
  },
  {
   "cell_type": "markdown",
   "metadata": {},
   "source": [
    "> **Note** that when we pass an iterable to the `list()` constructor, it breaks up each individual element in the iterable into a separate element in the list. Also, note again that we are able to place multiple different types of data structures into our lists. If we wanted to, we could even create a list of lists (and later we'll see we can make lists of any of the other data structures we learn).  "
   ]
  },
  {
   "cell_type": "code",
   "execution_count": 5,
   "metadata": {},
   "outputs": [],
   "source": [
    "my_lst_of_lsts = [[1, 2, 3], ['str1', 'str2', 'str3'], [1, 'mixed', 3]] "
   ]
  },
  {
   "cell_type": "code",
   "execution_count": 6,
   "metadata": {},
   "outputs": [
    {
     "data": {
      "text/plain": [
       "[[1, 2, 3], ['str1', 'str2', 'str3'], [1, 'mixed', 3]]"
      ]
     },
     "execution_count": 6,
     "metadata": {},
     "output_type": "execute_result"
    }
   ],
   "source": [
    "my_lst_of_lsts"
   ]
  },
  {
   "cell_type": "markdown",
   "metadata": {},
   "source": [
    "## List Operations"
   ]
  },
  {
   "cell_type": "markdown",
   "metadata": {},
   "source": [
    "You already stumbled across some list operations (methods) in the [ds-welcome-package](https://github.com/neuefische/ds-welcome-package). If you want to see which operations you can use on lists, just use the tab complete in a Jupyter Notebook and you will get a drop down menu of the methods.\n",
    "\n",
    "```python\n",
    "In [1]: my_lst. # Hit tab now!\n",
    "\n",
    "my_lst.append   my_lst.index    my_lst.remove   \n",
    "my_lst.count    my_lst.insert   my_lst.reverse  \n",
    "my_lst.extend   my_lst.pop      my_lst.sort\n",
    "```\n",
    "\n",
    "Keep in mind, that in order to execute a method you need to add `()` at the end of the method (eg. `my_lst.pop()`).\n",
    "For a more detailed discussion and/or to see all of the methods available for lists, see the [docs](https://docs.python.org/2/tutorial/datastructures.html#more-on-lists).\n",
    "\n",
    "These are all informations you need to complete the following tasks:\n",
    "\n"
   ]
  },
  {
   "cell_type": "markdown",
   "metadata": {},
   "source": [
    "## Working with Individual Elements in Lists\n",
    "\n",
    "Working with individual elements in a list is the same as working with characters in strings."
   ]
  },
  {
   "cell_type": "code",
   "execution_count": 7,
   "metadata": {},
   "outputs": [],
   "source": [
    "my_lst = [1, 2, 'hello', 'goodbye']"
   ]
  },
  {
   "cell_type": "code",
   "execution_count": 8,
   "metadata": {},
   "outputs": [
    {
     "data": {
      "text/plain": [
       "2"
      ]
     },
     "execution_count": 8,
     "metadata": {},
     "output_type": "execute_result"
    }
   ],
   "source": [
    "# indexing\n",
    "my_lst[1]"
   ]
  },
  {
   "cell_type": "code",
   "execution_count": 9,
   "metadata": {},
   "outputs": [
    {
     "data": {
      "text/plain": [
       "['hello']"
      ]
     },
     "execution_count": 9,
     "metadata": {},
     "output_type": "execute_result"
    }
   ],
   "source": [
    "# slicing\n",
    "my_lst[2:3]"
   ]
  },
  {
   "cell_type": "markdown",
   "metadata": {},
   "source": [
    ">**Note**: Remember that the ending index is non-inclusive.\n",
    "\n"
   ]
  },
  {
   "cell_type": "code",
   "execution_count": 10,
   "metadata": {},
   "outputs": [
    {
     "data": {
      "text/plain": [
       "[1, 2, 'hello', 'goodbye']"
      ]
     },
     "execution_count": 10,
     "metadata": {},
     "output_type": "execute_result"
    }
   ],
   "source": [
    "my_lst[:]"
   ]
  },
  {
   "cell_type": "code",
   "execution_count": 11,
   "metadata": {},
   "outputs": [
    {
     "data": {
      "text/plain": [
       "'goodbye'"
      ]
     },
     "execution_count": 11,
     "metadata": {},
     "output_type": "execute_result"
    }
   ],
   "source": [
    "my_lst[-1]"
   ]
  },
  {
   "cell_type": "markdown",
   "metadata": {},
   "source": [
    "Just as with strings, we can also add a 3rd number to our list indexing to step through the list and only grab elements at regular intervals."
   ]
  },
  {
   "cell_type": "code",
   "execution_count": 12,
   "metadata": {},
   "outputs": [],
   "source": [
    "my_lst = [1, 2, 3, 4, 5, 6, 7, 8, 9, 10]"
   ]
  },
  {
   "cell_type": "code",
   "execution_count": 13,
   "metadata": {},
   "outputs": [
    {
     "data": {
      "text/plain": [
       "[1, 4, 7, 10]"
      ]
     },
     "execution_count": 13,
     "metadata": {},
     "output_type": "execute_result"
    }
   ],
   "source": [
    "# grab every third element of whole list\n",
    "my_lst[::3]"
   ]
  },
  {
   "cell_type": "code",
   "execution_count": 14,
   "metadata": {},
   "outputs": [
    {
     "data": {
      "text/plain": [
       "[1, 4]"
      ]
     },
     "execution_count": 14,
     "metadata": {},
     "output_type": "execute_result"
    }
   ],
   "source": [
    "# grab every third element ending with element #4\n",
    "my_lst[:4:3]"
   ]
  },
  {
   "cell_type": "markdown",
   "metadata": {},
   "source": [
    "## Lists and Iteration\n",
    "\n",
    "We can also iterate through lists in the same way that we can iterate through strings. The efficient way to iterate through lists uses a `for` loop. Remember, even though we could loop through the list with a `while` loop, those are less Pythonic."
   ]
  },
  {
   "cell_type": "code",
   "execution_count": 15,
   "metadata": {},
   "outputs": [],
   "source": [
    "my_lst = [1, 2, 3, 4, 5]"
   ]
  },
  {
   "cell_type": "code",
   "execution_count": 16,
   "metadata": {},
   "outputs": [
    {
     "name": "stdout",
     "output_type": "stream",
     "text": [
      "1\n",
      "2\n",
      "3\n",
      "4\n",
      "5\n"
     ]
    }
   ],
   "source": [
    "for num in my_lst:\n",
    "    print(num)"
   ]
  },
  {
   "cell_type": "markdown",
   "metadata": {},
   "source": [
    "Just as in the case of iterating through our strings, our `for` loop iterates over all of the values in our iterable (this time a `list`), and then places those values into the variable name we give (`num`) at each iteration of the loop.\n",
    "\n",
    "What if I absolutely need the indices, though? Is there a way that I can still iterate through using a for loop without `range()` and `len()` or a `while`, the way you're telling me is Pythonic, and still get the indices?? Yes!\n",
    "\n",
    "There is a function, `enumerate()`, that will allow us to iterate through a list or string (grabbing each of the individual elements in the list or characters in the string) while at the same time keeping track of their index. The trick is that instead of using just one variable (such as `num` above) to store the elements of the list as you loop through them, we use two variables. The first of these variables stores the current index, and the second stores the corresponding element in the list. Let's see how it works..."
   ]
  },
  {
   "cell_type": "code",
   "execution_count": 17,
   "metadata": {},
   "outputs": [
    {
     "name": "stdout",
     "output_type": "stream",
     "text": [
      "0 1\n",
      "1 2\n",
      "2 3\n",
      "3 4\n",
      "4 5\n"
     ]
    }
   ],
   "source": [
    "for idx, num in enumerate(my_lst):\n",
    "    print(idx, num)"
   ]
  },
  {
   "cell_type": "markdown",
   "metadata": {},
   "source": [
    "The trick here is that when we call `enumerate()` on our list, `enumerate()` gives us back two values at each iteration through the loop. The first value is the current index (which we chose to store as `idx` above), and the second value is the current element of the list (which we chose to store as `num`). Note how `idx` tracks one behind `num`... this is because `idx` starts at 0 and `num` starts at 1."
   ]
  },
  {
   "cell_type": "markdown",
   "metadata": {},
   "source": [
    "\n",
    "## The Magic of Iterables\n",
    "\n",
    "Strings and lists are two kinds of iterables that we have looked at today. There are many other kinds of iterables that we'll work with in Python, and you can even define your own iterable if you'd like. The important thing that we want to note for now, though, is that the `for` loops that we have looked at today will work for any iterable. You can simply write `for <variable name> in <iterable>:`, and at each iteration through the loop you will be able to access another element from that iterable via `variable name`. Also, as mentioned above, the `list()` constructor accepts any iterable as an argument, and then creates a `list`, where each element in the iterable is a single element in the `list`."
   ]
  },
  {
   "cell_type": "markdown",
   "metadata": {},
   "source": [
    "## Check your understanding!\n",
    "\n",
    "**Part 1: Create Lists**\n",
    "\n",
    "1. Construct a list with 5 integers in it.\n",
    "2. Construct a list of 5 floats in it.\n",
    "3. Construct a list with only strings in it.\n",
    "4. Construct a list that contains at least one integer, one floating point number, and one string.\n",
    "5. Construct a list that contains a list of integers, a list of floating point numbers, and a list of strings?\n",
    "    * If you saved the lists from questions 1-3 into their own variables then you can do this in more than one way.\n",
    "    "
   ]
  },
  {
   "cell_type": "markdown",
   "metadata": {},
   "source": [
    "**Part 2: List Operations**\n",
    "\n",
    "\n",
    "1. Construct a list of the even numbers from 0 to 10.\n",
    "2. Add (with a method) the number 12 to the previous list.\n",
    "3. Use a method on the list to put the numbers in descending order (12 down to 0).\n",
    "4. Call `.count(12)` on your list. Given what it returns and the name of the method itself, can you take a guess at what this method does?\n",
    "5. Add (with a method) the number 12 to the list again.\n",
    "6. Call `.count(12)` on your list again. Did you get the intended result?\n",
    "7. Use a method on the list to put the numbers in asscending order (from 0 to 12).\n",
    "8. Remove the last item from the list.\n",
    "9. How many items are now in your list? (you can check if your right with `len(my_list)`)"
   ]
  },
  {
   "cell_type": "markdown",
   "metadata": {},
   "source": [
    "**Part 3:List Indexing**\n",
    "\n",
    "Assume that we are working the list [3, 7, 12, 15, 22]. \n",
    "\n",
    "1. How would we index into the list to grab the number 7? What about the number 15?\n",
    "2. Using negative indexing, how would we index into the list to grab the number 12?\n",
    "3. How would I use interval indexing to grab 7 and 15 from the list?"
   ]
  },
  {
   "cell_type": "markdown",
   "metadata": {},
   "source": [
    "**Part 4: List Iteration**\n",
    "\n",
    "Assume that we are working with the list [0, 1, 2, 3, 4, 5, 6, 7, 8, 9, 10]. \n",
    "\n",
    "1. Write a `for` loop to iterate over the list and print each number.\n",
    "2. Add a condition to that for loop which only prints a number if it is even. (**Hint**: use the `%` operator.)\n",
    "\n",
    "    a. Do not only print the even number but store them in the list `evens`.\n",
    "3. Can you modify the condition in question (2) so that the for loop only prints a number if it is odd?\n",
    "4. Now modify the `for` loop so that we print out the index of the elements along with the elements themselves."
   ]
  },
  {
   "cell_type": "markdown",
   "metadata": {},
   "source": [
    "**Part 5: List Iteration 2**\n",
    "\n",
    "You have received a list with the personal data of new customers. For each customer, the first name, age and purchased product is stored in a list.\n",
    "1. Use the correct indices to write the following sentence for customer 3:\n",
    "\"{first name} is {age} years old and has bought {product}\".\n",
    "\n",
    "2. Use a for loop to iterate through all customers and print \n",
    "\"{first name} is {age} years old and has bought {product}\".\n",
    "for each of them\n",
    "\n",
    "3. Iterate through all customers and print \"Customer number {index}: {first name} is {age} years old and has bought {product}\"."
   ]
  },
  {
   "cell_type": "markdown",
   "metadata": {},
   "source": [
    "\n",
    "<details><summary>\n",
    "Click here for a hint.\n",
    "    </summary>\n",
    "    1. With customers[0] you access the first nested list ['Paul', 33, 'Macbook Pro']. You can index each of those elements again.\n",
    "    Try out: customers[0][0]\n",
    "    \n",
    "2. With a for loop you iterate through each customer in \"customers\", now each personal data from the customer can be accessed with: customer[0] (is first name) etc.\n",
    "    \n",
    "3. For the index, you will need to iterate through enumerate(customers).\n",
    "</details>\n"
   ]
  },
  {
   "cell_type": "code",
   "execution_count": 18,
   "metadata": {},
   "outputs": [],
   "source": [
    "customers = [['Paul', 33, 'Macbook Pro'],\n",
    "            ['Anna', 12, 'Looping Louie'],\n",
    "            ['Gina', 85, 'Photo Album'],\n",
    "            ['Kim', 59, 'Plants']]"
   ]
  },
  {
   "cell_type": "code",
   "execution_count": null,
   "metadata": {},
   "outputs": [],
   "source": []
  }
 ],
 "metadata": {
  "kernelspec": {
   "display_name": "Python 3",
   "language": "python",
   "name": "python3"
  },
  "language_info": {
   "codemirror_mode": {
    "name": "ipython",
    "version": 3
   },
   "file_extension": ".py",
   "mimetype": "text/x-python",
   "name": "python",
   "nbconvert_exporter": "python",
   "pygments_lexer": "ipython3",
   "version": "3.7.3"
  }
 },
 "nbformat": 4,
 "nbformat_minor": 4
}
