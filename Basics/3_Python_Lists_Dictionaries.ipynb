{
 "cells": [
  {
   "cell_type": "markdown",
   "metadata": {},
   "source": [
    "To open this notebook in Google Colab and start coding, click on the Colab icon below.\n",
    "<table style=\"border:2px solid orange\" align=\"left\">\n",
    "  <td style=\"border:2px solid orange \">\n",
    "    <a target=\"_blank\" href=\"https://colab.research.google.com/github/adriz-nf/kickstart-into-programming/blob/main/Basics/3_Python_Lists_Dictionaries.ipynb\"><img src=\"https://www.tensorflow.org/images/colab_logo_32px.png\" />Run in Google Colab</a>\n",
    "  </td>\n",
    "</table>"
   ]
  },
  {
   "cell_type": "markdown",
   "metadata": {
    "id": "Pl5HeJX8qGLN"
   },
   "source": [
    "---\n",
    "# Python Data Structures\n",
    "\n",
    "You have already seen some types of data structures in Python like strings, integers, floats and booleans.\n",
    "Here you will learn about some more structures:\n",
    "- we will see how `lists` work\n",
    "- we will check out `dictionaries` in python and why they come handy\n"
   ]
  },
  {
   "cell_type": "markdown",
   "metadata": {
    "id": "G0lbdxTkqGLT"
   },
   "source": [
    "## Lists\n",
    "\n",
    "When we worked with data structures before, we just worked with one variable at a time. But what if we want to have a collection of variables? For example we have 4 numbers that we want to remember in a specific order. We could do this:"
   ]
  },
  {
   "cell_type": "code",
   "execution_count": null,
   "metadata": {
    "id": "oJpZ2bPiqGLU"
   },
   "outputs": [],
   "source": [
    "n1 = 3\n",
    "n2 = 5\n",
    "n3 = 7\n",
    "n4 = 13"
   ]
  },
  {
   "cell_type": "markdown",
   "metadata": {
    "id": "ZC9QvztwqGLU"
   },
   "source": [
    "This works out, but its not practical. It would take long to instanciate all these variables if you would have 10 or 100 numbers instead of 4. And that's why we have lists in Python:\n",
    "- a list is a collection of items.\n",
    "- you can store different types of data structures in a list like strings and integers, even other lists!\n",
    "\n",
    "A list always consists of zero or more items, writen between spuare brackets.\n",
    "We will create some lists now!"
   ]
  },
  {
   "cell_type": "code",
   "execution_count": null,
   "metadata": {
    "id": "jwPMhGtQqGLU"
   },
   "outputs": [],
   "source": [
    "# this is an empty list\n",
    "myList = []\n",
    "# we can write our integers in this list. Note: they are separated with \",\"\n",
    "myList = [3,5,7,13]\n",
    "# strings are fine as well\n",
    "myList = ['one', 'two', 'three']\n",
    "# and of course we can mix data types\n",
    "myList = [3, 'five', 7.5, 'nine']\n",
    "# and add a list in our list\n",
    "myList = [[0,1], 'hey there!']\n"
   ]
  },
  {
   "cell_type": "markdown",
   "metadata": {
    "id": "mKTr0WdlqGLV"
   },
   "source": [
    "There are so many things we can do with lists! We cannot cover all of them, and there will always be new things to be discovered.\n",
    "But here are some handy methods:"
   ]
  },
  {
   "cell_type": "code",
   "execution_count": null,
   "metadata": {
    "id": "lQIhn5NdqGLV",
    "outputId": "58240c8a-a99b-4f4c-f68d-d134e64f6235"
   },
   "outputs": [],
   "source": [
    "myList = [3,5,7,13]\n",
    "print(myList)"
   ]
  },
  {
   "cell_type": "code",
   "execution_count": null,
   "metadata": {
    "id": "xQqVm_izqGLW",
    "outputId": "e5513ce3-acb5-436a-c2cb-b490b9130882"
   },
   "outputs": [],
   "source": [
    "# we can access individual elements in lists by calling them with their index\n",
    "myList[0]"
   ]
  },
  {
   "cell_type": "code",
   "execution_count": null,
   "metadata": {
    "id": "GGaVIEAxqGLW",
    "outputId": "7a5c2400-9fac-4474-d422-645b02a5d39d"
   },
   "outputs": [],
   "source": [
    "myList[1]"
   ]
  },
  {
   "cell_type": "markdown",
   "metadata": {
    "id": "dnmzisXEqGLX"
   },
   "source": [
    "> Note: The index starts with **0** and not with 1!"
   ]
  },
  {
   "cell_type": "code",
   "execution_count": null,
   "metadata": {
    "id": "R4mJLZ5oqGLX",
    "outputId": "3471fe5f-5482-4a60-b01b-4bed7774d8ee"
   },
   "outputs": [],
   "source": [
    "# we can have a subset of the list between two indices.\n",
    "myList[1:3]"
   ]
  },
  {
   "cell_type": "markdown",
   "metadata": {
    "id": "UO-k4VAxqGLX"
   },
   "source": [
    "> Note: The ending index is not included!\n",
    "\n",
    "Try other combinations to get familiar with the concept:\n",
    "- what do you have to type to grab the number 13?\n",
    "- what do you think will happen when you use the index [-1] or [-2]?\n",
    "- what will happen if you don't use a starting index for the index slize? (eg. [:3] )\n",
    "\n"
   ]
  },
  {
   "cell_type": "markdown",
   "metadata": {
    "id": "WNtSJdcqqGLY"
   },
   "source": [
    "Lists have some operations (methods) of their own. We will come to this concept of methods later.\n",
    "For now, we are only interested in what can be done with them.\n",
    "We access these operations by calling them on our list.\n"
   ]
  },
  {
   "cell_type": "code",
   "execution_count": null,
   "metadata": {
    "id": "l8pTjI4YqGLY",
    "outputId": "11849572-2ce2-4c5c-fa48-6bf5731d8823"
   },
   "outputs": [],
   "source": [
    "# we can add object at the end of our list\n",
    "myList.append(11)\n",
    "myList"
   ]
  },
  {
   "cell_type": "code",
   "execution_count": null,
   "metadata": {
    "id": "M0JoEV8tqGLY",
    "outputId": "98147ce1-c1cc-413a-a447-d0b62828526a"
   },
   "outputs": [],
   "source": [
    "# we can sort lists\n",
    "myList.sort()\n",
    "myList"
   ]
  },
  {
   "cell_type": "code",
   "execution_count": null,
   "metadata": {
    "id": "GYiKHdkQqGLY",
    "outputId": "f56d16be-8e7a-4d64-cce7-6ab1ed699a1b"
   },
   "outputs": [],
   "source": [
    "# we can remove the last item from the list\n",
    "myList.pop()"
   ]
  },
  {
   "cell_type": "code",
   "execution_count": null,
   "metadata": {
    "id": "JN-1TlOQqGLZ",
    "outputId": "7f654e46-55cc-4528-fcfe-dcad4c0fd7ab"
   },
   "outputs": [],
   "source": [
    "# 13 is now not part of our list anymore\n",
    "myList"
   ]
  },
  {
   "cell_type": "code",
   "execution_count": null,
   "metadata": {
    "id": "oXdjzVKpqGLZ",
    "outputId": "43ebcc5e-b743-4a66-ca5c-b25a4004dd0d"
   },
   "outputs": [],
   "source": [
    "# add more than one number at the end of the list\n",
    "myList.extend([3,4])\n",
    "myList"
   ]
  },
  {
   "cell_type": "markdown",
   "metadata": {
    "id": "sOn3kkP8qGLZ"
   },
   "source": [
    "> NOTE: Operations on lists are done in place, which means that they are applied directly on the list.\n",
    "\n",
    "If we apply `.sort()` myList will be [3, 3, 4, 5, 7, 11] and we do not have the older version anymore ([3, 5, 7, 11, 3, 4])"
   ]
  },
  {
   "cell_type": "code",
   "execution_count": null,
   "metadata": {
    "id": "Q1-AReX9qGLZ",
    "outputId": "f825b12d-a27a-4177-91c2-35859c9773a3"
   },
   "outputs": [],
   "source": [
    "myList"
   ]
  },
  {
   "cell_type": "code",
   "execution_count": null,
   "metadata": {
    "id": "M7JmWLCYqGLa"
   },
   "outputs": [],
   "source": [
    "myList.sort()"
   ]
  },
  {
   "cell_type": "code",
   "execution_count": null,
   "metadata": {
    "id": "zHF4FqV2qGLa",
    "outputId": "3c0a80cb-63dd-4e25-8276-e6c8435a0c27"
   },
   "outputs": [],
   "source": [
    "myList"
   ]
  },
  {
   "cell_type": "markdown",
   "metadata": {
    "id": "pxNlLjCYqGLa"
   },
   "source": [
    "You can check out some more operations when typing\n",
    "\n",
    "    myList. #hit tab now!"
   ]
  },
  {
   "cell_type": "code",
   "execution_count": null,
   "metadata": {
    "id": "DFfolHEnqGLa"
   },
   "outputs": [],
   "source": [
    "#check out some more operations\n"
   ]
  },
  {
   "cell_type": "markdown",
   "metadata": {
    "id": "R46z7q4NtEgP"
   },
   "source": [
    "Ok. Now it's again your term.\n",
    "Try out to create some list containing:\n",
    "\n",
    "    - your name\n",
    "    - how old you are\n",
    "    - what your favourite food is.\n",
    "\n",
    "\n"
   ]
  },
  {
   "cell_type": "code",
   "execution_count": null,
   "metadata": {
    "id": "s_Bvo74EtWLC"
   },
   "outputs": [],
   "source": []
  },
  {
   "cell_type": "markdown",
   "metadata": {
    "id": "kOIz_KMgtWoo"
   },
   "source": [
    "Try to remove your favourite food\n",
    "\n"
   ]
  },
  {
   "cell_type": "code",
   "execution_count": null,
   "metadata": {
    "id": "Zq_WQ_wHtZFg"
   },
   "outputs": [],
   "source": []
  },
  {
   "cell_type": "markdown",
   "metadata": {
    "id": "uvHGtqR3tZbT"
   },
   "source": [
    "Add a list containing food you don't like or are allergic to."
   ]
  },
  {
   "cell_type": "code",
   "execution_count": null,
   "metadata": {
    "id": "aT4qbRI3tbCP"
   },
   "outputs": [],
   "source": []
  },
  {
   "cell_type": "markdown",
   "metadata": {
    "id": "6Ws2ZwjHqGLd"
   },
   "source": [
    "# Dictionaries\n",
    "\n",
    "There is another very convenient way of storing data which is a `dictionary`. As the name says,\n",
    "you can think of it as a dictionary, in which each word is a “key” to a definition.\n",
    "The syntax is:\n",
    "\n",
    "    mydict = {'key' : 'value',\n",
    "              'key2' : 'value2'}\n",
    "\n",
    "- To define dictionaries we use curly braces. \n",
    "- Dictionary items contain a key-value pair separated by a colon. \n",
    "- Each key-value pair is separated by a comma.\n",
    "\n",
    "Dictionaries are not only convenient but also highly performant. Retrieving an element by its key doesn't require iteration through the whole dictionary.\n",
    "\n",
    "So let's built our first dictionary:\n"
   ]
  },
  {
   "cell_type": "code",
   "execution_count": null,
   "metadata": {
    "id": "KVMTdqVWqGLd"
   },
   "outputs": [],
   "source": [
    "snakes = {\"Boa constrictor\": \"large, non-venomous, heavy bodied snake\",\n",
    "         \"King cobra\": \"world's longest venomous snake\",\n",
    "         \"Viper\": 'family of venomous snakes found in most parts of the world'}"
   ]
  },
  {
   "cell_type": "markdown",
   "metadata": {
    "id": "tTzAFaGSqGLd"
   },
   "source": [
    "We can print the definition included for “King cobra” in the dictionary:"
   ]
  },
  {
   "cell_type": "code",
   "execution_count": null,
   "metadata": {
    "id": "-3TzH6vdqGLd",
    "outputId": "439ee3a3-5999-4f6f-f397-1bca29ca14d1"
   },
   "outputs": [],
   "source": [
    "snakes['King cobra']"
   ]
  },
  {
   "cell_type": "markdown",
   "metadata": {
    "id": "eI_VgPwBqGLe"
   },
   "source": [
    "We can add new items to our dictionary:"
   ]
  },
  {
   "cell_type": "code",
   "execution_count": null,
   "metadata": {
    "id": "UKOJHeK1qGLe"
   },
   "outputs": [],
   "source": [
    "snakes[\"Python\"] = \"interpreted, high-level and general-purpose programming language\""
   ]
  },
  {
   "cell_type": "code",
   "execution_count": null,
   "metadata": {
    "id": "2Pmg-EQgqGLe",
    "outputId": "4ed483a5-4949-4907-9e2c-9d55f92351ed"
   },
   "outputs": [],
   "source": [
    "snakes"
   ]
  },
  {
   "cell_type": "markdown",
   "metadata": {
    "id": "kElCZ9ZMqGLf"
   },
   "source": [
    "We can count the numbers of entries in a dictionary:"
   ]
  },
  {
   "cell_type": "code",
   "execution_count": null,
   "metadata": {
    "id": "U3tzZt9lqGLf",
    "outputId": "31aade48-0965-45c7-ed1e-f7652009a06c"
   },
   "outputs": [],
   "source": [
    "len(snakes)"
   ]
  },
  {
   "cell_type": "markdown",
   "metadata": {
    "id": "eckI9CxqqGLf"
   },
   "source": [
    "We can get all the keys or all the values in our dictionary:"
   ]
  },
  {
   "cell_type": "code",
   "execution_count": null,
   "metadata": {
    "id": "_DJ5xBdyqGLf",
    "outputId": "077d5b95-764d-4193-84af-b3bfe9af259a"
   },
   "outputs": [],
   "source": [
    "snakes.keys()"
   ]
  },
  {
   "cell_type": "code",
   "execution_count": null,
   "metadata": {
    "id": "Yz3BilIpqGLf",
    "outputId": "749c1fe4-9770-417c-f637-84118c237bd4"
   },
   "outputs": [],
   "source": [
    "snakes.values()"
   ]
  },
  {
   "cell_type": "markdown",
   "metadata": {
    "id": "VGLpwZ_LqGLg"
   },
   "source": [
    "And of course we can also remove items from our dictionary again."
   ]
  },
  {
   "cell_type": "code",
   "execution_count": null,
   "metadata": {
    "id": "QuI3EpRgqGLg"
   },
   "outputs": [],
   "source": [
    "del snakes['Viper']"
   ]
  },
  {
   "cell_type": "code",
   "execution_count": null,
   "metadata": {
    "id": "sXqNPCujqGLg",
    "outputId": "0281c616-866d-43e9-cc50-4bfe70826f02"
   },
   "outputs": [],
   "source": [
    "snakes"
   ]
  },
  {
   "cell_type": "markdown",
   "metadata": {
    "id": "X_V4BbZZqGLg"
   },
   "source": [
    "Try it out yourself!\n",
    "Let's create another dictionary with the five biggest cities in germany and their respective number of inhabitants.\n",
    "\n",
    "You probably know it by heart, but unless not, here are the numbers:\n",
    "- Berlin 3.7 Mio\n",
    "- Hamburg 1.8 Mio\n",
    "- Munich 1.7 Mio\n",
    "- Cologne 1.0 Mio\n",
    "- Frankfurt 0.8 Mio"
   ]
  },
  {
   "cell_type": "code",
   "execution_count": null,
   "metadata": {
    "id": "Ei59uh8RqGLg"
   },
   "outputs": [],
   "source": [
    "# create the dict, maybe call it german_cities\n"
   ]
  },
  {
   "cell_type": "markdown",
   "metadata": {
    "id": "sNeLhhbiqGLg"
   },
   "source": [
    "Ups! \n",
    "An important characteristic of keys should be that they are unique. In Germany, there are 2 cities called Frankfurt. Let's delete Frankfurt and write the item \"Frankfurt am Main\" instead."
   ]
  },
  {
   "cell_type": "code",
   "execution_count": null,
   "metadata": {
    "id": "rAT0ozO2qGLg"
   },
   "outputs": [],
   "source": []
  },
  {
   "cell_type": "markdown",
   "metadata": {
    "id": "f3k1RvvHqGLh"
   },
   "source": [
    "Oh no. There is a second mistake. Munich actually has just 1.5 Mio inhabitants. You can change values for already existing keys like when adding a new key-value pair, just with an already existing key."
   ]
  },
  {
   "cell_type": "code",
   "execution_count": null,
   "metadata": {
    "id": "TauZ0VX9qGLh"
   },
   "outputs": [],
   "source": []
  },
  {
   "cell_type": "markdown",
   "metadata": {
    "id": "q4Ibwi13qGLh"
   },
   "source": [
    "Now we did a lot of changes. Can you make sure that the length of the dictionary is still 5? (can you even make it, that the answer is True or False?)"
   ]
  },
  {
   "cell_type": "code",
   "execution_count": null,
   "metadata": {
    "id": "yJS7yokbqGLh"
   },
   "outputs": [],
   "source": []
  },
  {
   "cell_type": "markdown",
   "metadata": {
    "id": "iDVF-jfnqGLh"
   },
   "source": [
    "Hope this worked out well. In case you want to check that you did everything right, here is one solution.\n",
    "<details><summary>\n",
    "Click here for the solution.\n",
    "</summary>\n",
    "    german_cities = {'Berlin': 3.7,\n",
    "                'Hamburg': 1.8,\n",
    "                \"Munich\": 1.7,\n",
    "                \"Cologne\": 1.0,\n",
    "                \"Frankfurt\": 0.8}\n",
    " \n",
    "    del german_cities['Frankfurt']\n",
    "    german_cities['Frankfurt am Main'] = 1.0\n",
    "    german_cities['Munich']= 1.5\n",
    "    len(german_cities) == 5\n",
    "\n",
    "</details>\n"
   ]
  },
  {
   "cell_type": "markdown",
   "metadata": {
    "id": "hvE2RQ4aqGLh"
   },
   "source": [
    "# Summary\n",
    "\n",
    "Cool! You finished yet another notebook.\n",
    "In the end you should be able to:\n",
    "- create lists and dictionaries\n",
    "- add new values to lists and dictionaries\n",
    "- understand what a key-value pair is\n"
   ]
  },
  {
   "cell_type": "code",
   "execution_count": null,
   "metadata": {},
   "outputs": [],
   "source": []
  }
 ],
 "metadata": {
  "colab": {
   "collapsed_sections": [],
   "name": "3_Python_lists_sets_dictionaries.ipynb",
   "provenance": []
  },
  "kernelspec": {
   "display_name": "Python 3",
   "language": "python",
   "name": "python3"
  },
  "language_info": {
   "codemirror_mode": {
    "name": "ipython",
    "version": 3
   },
   "file_extension": ".py",
   "mimetype": "text/x-python",
   "name": "python",
   "nbconvert_exporter": "python",
   "pygments_lexer": "ipython3",
   "version": "3.8.5"
  }
 },
 "nbformat": 4,
 "nbformat_minor": 4
}
