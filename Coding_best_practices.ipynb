{
 "cells": [
  {
   "cell_type": "markdown",
   "metadata": {},
   "source": [
    "# Coding best practices\n",
    "\n",
    "## PEP8\n",
    "\n",
    "### Introduction\n",
    "\n",
    "PEP stands for Python Enhancement Proposals. Check them out [here](https://www.python.org/dev/peps/)! We'll start by talking about PEP8, which is the Style Guide for Python Code. This discusses many points which are also important for collaboration. Git is useful for sharing and integrating code bases, but if code is poorly written it can still be cryptic and difficult to decipher. By following styling guidelines such as those outlined in PEP8, we can all create more legible code that can be shared in a streamlined fashion.\n",
    "\n",
    "### Objectives\n",
    "\n",
    "You will be able to:\n",
    "\n",
    "* Define the acronym PEP\n",
    "* Describe several style guidelines for python code\n",
    "\n",
    "### PEP8 Introductory Notes\n",
    "\n",
    "Remember that the guidelines in PEP8 are just that: guidelines. The main goal is to make code more readable. Often, projects may have their own style guidelines which should take precedence. Most important of all is consistency. Be consistent with how you format your code and stick to it. With that, here's an overview of some of the most important guidelines from the PEP8 document to start familiarizing yourself with."
   ]
  },
  {
   "cell_type": "markdown",
   "metadata": {},
   "source": [
    "### Whitespace\n",
    "\n",
    "1. Avoid trailing whitespace; its hard to see!\n",
    "2. Always use whitespace on either side of binary operators like =, ==, !=, >, <, <=, not, in, and, or...\n",
    "3. If operators with different priorities are used, consider adding whitespace around the operators with the lowest priority(ies). For example, multiplication takes precedence over addition, so we might not include whitespace around the multiplication, helping to indicate that these operations happen first and form a cohesive group."
   ]
  },
  {
   "cell_type": "markdown",
   "metadata": {},
   "source": [
    "#### Good whitespace usage:"
   ]
  },
  {
   "cell_type": "code",
   "execution_count": null,
   "metadata": {},
   "outputs": [],
   "source": [
    "i = 1\n",
    "i = i + 1\n",
    "i += 1\n",
    "x = i*2 - 1\n",
    "hypot2 = x*x + i*i\n",
    "c = (x+x) * (i-i)"
   ]
  },
  {
   "cell_type": "markdown",
   "metadata": {},
   "source": [
    "#### Bad whitespace usage:"
   ]
  },
  {
   "cell_type": "code",
   "execution_count": null,
   "metadata": {},
   "outputs": [],
   "source": [
    "i=1\n",
    "i=i+1\n",
    "i +=1\n",
    "x = i * 2 - 1\n",
    "hypot2 = x * x + i * i\n",
    "c = (x + x) * (i - i)"
   ]
  },
  {
   "cell_type": "markdown",
   "metadata": {},
   "source": [
    "### Line Length\n",
    "\n",
    "As a general rule of thumb, limit all lines of code to 79 characters."
   ]
  },
  {
   "cell_type": "code",
   "execution_count": null,
   "metadata": {},
   "outputs": [],
   "source": [
    "#Below is a verbose list comprehension that is 79 characters long as a silly example\n",
    "[integer**2+1 for integer in range(1,100) if integer > 20 and integer % 5 == 0]"
   ]
  },
  {
   "cell_type": "markdown",
   "metadata": {},
   "source": [
    "### Variable Names\n",
    "\n",
    "1. Never use the characters 'l' (lowercase letter el), 'O' (uppercase letter oh), or 'I' (uppercase letter eye) as single character variable names.\n",
    "\n",
    "     --> In some fonts, these characters are indistinguishable from the numerals one and zero. When tempted to use 'l', use 'L' instead.  \n",
    "2. Don't use built-in python keywords like list, dict or str as variable names: this is not only a style guideline, it will break your code! "
   ]
  },
  {
   "cell_type": "markdown",
   "metadata": {},
   "source": [
    "### Indentation\n",
    "\n",
    "You might already have stumbled across the importance of indentation in python. Here are the conventional style guidelines that should be followed:\n",
    "\n",
    "1. When indenting, use 4 spaces instead of a tab.\n",
    "    1. Note that Python 3 disallows mixing the use of tabs and spaces for indentation. At some point you'll encounter this error: be on the lookout!\n",
    "2. Vertically align continuation lines of code.\n",
    "    1. This gets used for long functions, lists or conditionals\n",
    "\n",
    "Here are some examples using functions. Functions will be introduced formally in the future so don't worry if the syntax looks unfamiliar. Just keep in mind that there are style conventions associated with functions. Comments have been placed in the code to help guide understanding.\n",
    "\n",
    "#### Good Indentation:"
   ]
  },
  {
   "cell_type": "code",
   "execution_count": null,
   "metadata": {},
   "outputs": [],
   "source": [
    "# Add 4 spaces (an extra level of indentation) to distinguish arguments from the rest.\n",
    "def long_function_name(\n",
    "        var_one, var_two, var_three,\n",
    "        var_four):\n",
    "    print(var_one)\n",
    "    \n",
    "# Aligned with opening delimiter.\n",
    "foo = long_function_name(\"var_one\", \"var_two\",\n",
    "                         \"var_three\", \"var_four\")"
   ]
  },
  {
   "cell_type": "markdown",
   "metadata": {},
   "source": [
    "#### Bad Indentation:"
   ]
  },
  {
   "cell_type": "code",
   "execution_count": null,
   "metadata": {},
   "outputs": [],
   "source": [
    "# Further indentation required as indentation is not distinguishable.\n",
    "def long_function_name(\n",
    "    var_one, var_two, var_three,\n",
    "    var_four):\n",
    "    print(var_one)\n",
    "\n",
    "# Arguments on first line forbidden when not using vertical alignment.\n",
    "foo = long_function_name(\"var_one\", \"var_two\",\n",
    "    \"var_three\", \"var_four\")"
   ]
  },
  {
   "cell_type": "markdown",
   "metadata": {},
   "source": [
    "Somewhat similarly, when using operations, keep the operator with the operand:"
   ]
  },
  {
   "cell_type": "markdown",
   "metadata": {},
   "source": [
    "#### Good operator placement:"
   ]
  },
  {
   "cell_type": "code",
   "execution_count": null,
   "metadata": {},
   "outputs": [],
   "source": [
    "#Note: this line of code will produce an error (the variables referenced have not been defined)\n",
    "income = (gross_wages\n",
    "          + taxable_interest\n",
    "          + (dividends - qualified_dividends)\n",
    "          - ira_deduction\n",
    "          - student_loan_interest)"
   ]
  },
  {
   "cell_type": "markdown",
   "metadata": {},
   "source": [
    "#### Bad operator placement:"
   ]
  },
  {
   "cell_type": "code",
   "execution_count": null,
   "metadata": {},
   "outputs": [],
   "source": [
    "#Note: this line of code will produce an error (the variables referenced have not been defined)\n",
    "income = (gross_wages +\n",
    "          taxable_interest +\n",
    "          (dividends - qualified_dividends) -\n",
    "          ira_deduction -\n",
    "          student_loan_interest)"
   ]
  },
  {
   "cell_type": "markdown",
   "metadata": {},
   "source": [
    "## Additional Resources\n",
    "\n",
    "* [PEP Website](https://www.python.org/dev/peps/)\n",
    "* [PEP8 Page](https://www.python.org/dev/peps/pep-0008/)\n",
    "\n",
    "## Summary\n",
    "\n",
    "In this lesson, we introduced you to Python Enhancement Proposals (PEPs),\n",
    " documents for the python community meant to describe new features or processes. Specifically, we discussed some of the contents of PEP8, the style guide for python. Following these guidelines will lead to more readable code that can be shared with collaborators. With that, let's leave you with a poem of sorts: PEP20!\n",
    "\n",
    "PEP 20 -- The Zen of Python\n",
    "\n",
    "Beautiful is better than ugly.  \n",
    "Explicit is better than implicit.  \n",
    "Simple is better than complex.  \n",
    "Complex is better than complicated.  \n",
    "Flat is better than nested.  \n",
    "Sparse is better than dense.  \n",
    "Readability counts.  \n",
    "Special cases aren't special enough to break the rules.  \n",
    "Although practicality beats purity.  \n",
    "Errors should never pass silently.  \n",
    "Unless explicitly silenced.  \n",
    "In the face of ambiguity, refuse the temptation to guess.  \n",
    "There should be one-- and preferably only one --obvious way to do it.  \n",
    "Although that way may not be obvious at first unless you're Dutch.  \n",
    "Now is better than never.  \n",
    "Although never is often better than *right* now.  \n",
    "If the implementation is hard to explain, it's a bad idea.  \n",
    "If the implementation is easy to explain, it may be a good idea.  \n",
    "Namespaces are one honking great idea -- let's do more of those!  "
   ]
  }
 ],
 "metadata": {
  "kernelspec": {
   "display_name": "Python 3",
   "language": "python",
   "name": "python3"
  },
  "language_info": {
   "codemirror_mode": {
    "name": "ipython",
    "version": 3
   },
   "file_extension": ".py",
   "mimetype": "text/x-python",
   "name": "python",
   "nbconvert_exporter": "python",
   "pygments_lexer": "ipython3",
   "version": "3.8.5"
  }
 },
 "nbformat": 4,
 "nbformat_minor": 4
}
