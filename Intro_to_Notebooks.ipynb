{
 "cells": [
  {
   "cell_type": "markdown",
   "source": [
    "# Working with Jupyter-Notebooks in Visual Studio Code\n",
    "\n",
    "Mainly, we will work with Jupyter notebooks (.ipynb files), which \" ... are documents that combine live runnable code with narrative text (Markdown), equations (LaTeX), images, interactive visualizations and other rich output\"([Source](https://jupyterlab.readthedocs.io/en/stable/user/notebook.html)).  \n",
    "So, you are already working in a Notebook right now:)  \n",
    "Notebooks let you easily combine Markdown text and Python code and let you see the results of your code directly.  \n",
    "There are several options how to open and work with Jupyter Notebooks. We will use Visual Studio Code.  \n",
    "The pictures we are using in this notebook are retrieved from [this source](https://code.visualstudio.com/docs/datascience/jupyter-notebooks).\n",
    "\n",
    "## Objectives\n",
    "\n",
    "At the end of this notebook you will be able to:\n",
    "\n",
    "- run cells in a jupyter notebook and change them to markdown or code cell\n",
    "- differentiate between Command and Edit Mode and to change between them\n",
    "- adding and deleting cells\n",
    "- run UNIX commands in a Jupyter Notebook\n",
    "- receiving help from docstrings \n",
    "\n",
    "## Running Cells\n",
    "\n",
    "**Welcome to programming!**\n",
    "Juptyer Notebooks (historically called IPython Notebooks) will be our primary tool when conducting data analysis. The first thing to know is that each cell block [of code] can be run be pressing **shift+enter**.\n",
    "You could also use the green run button on the top of your cell instead - but we prefer to use our keyboard instead of the mouse;)  \n",
    "Try running the below code block:"
   ],
   "metadata": {}
  },
  {
   "cell_type": "code",
   "execution_count": null,
   "source": [
    "print('This is code being run.')"
   ],
   "outputs": [],
   "metadata": {}
  },
  {
   "cell_type": "markdown",
   "source": [
    "If you want to run more than one cell, you have several options. You can run all cells in the notebook as well as all cells above or below the selected cells by using the icons in the menu bar:  \n",
    "\n",
    "<img src=\"images/jupyter_runseveralcells.png\" width=\"800\">"
   ],
   "metadata": {}
  },
  {
   "cell_type": "markdown",
   "source": [
    "Red highlights from left to right:\n",
    "- run this specific cell\n",
    "- run all cells in the notebook\n",
    "- run line-by-line / run all cells above this cell / run this cell and all below"
   ],
   "metadata": {}
  },
  {
   "cell_type": "markdown",
   "source": [
    "## Cell Types\n",
    "\n",
    "You might have started to notice that the code blocks have little notes that say **[ ]:** before you run them, and then are filled with a number after you run them. This is important as it tells you what order cell blocks were run. (Which can sometimes affect how a program runs.)\n",
    "\n",
    "You may also notice that other cell blocks, such as this one, do not have the **[ ]:** label as the code blocks. This is because this cell block is formatted as **Markdown** (rather then code). They are really useful for embedding notes and explanations in your Jupyter Notebook. You can change what type of cell it is by clicking on the cell and press\n",
    "- __esc+y__ for code cell format,\n",
    "- __esc+m__ for markdown format.\n",
    "\n",
    "Note: Jupyter Notebooks can also use Markdown to display images. So don't get confused when we embed screen shots of Jupyter Notebooks in this Jupyter Notebook!\n",
    "\n",
    "Double clicking on a block of text will show you the Markdown code used to generate it. The idea is similar to HTML code used to render webpages in your browser. Turn the code back into nicely formatted output by pressing **shift+enter**."
   ],
   "metadata": {}
  },
  {
   "cell_type": "markdown",
   "source": [
    "## Command Versus Edit Mode\n",
    "\n",
    "When a cell is selected, we distinguish between two modes, one is the edit mode where you can write code or notes, the other is the command mode where you can delete or copy cells.  \n",
    "\n",
    "To switch from edit mode to command mode, you can press **esc**, (you cannot write in the cell now) and press **Enter** to enter edit mode again.\n",
    "\n",
    "\n",
    "### Edit Mode\n",
    "Edit mode is the standard mode for editing cells, whether it's writing code or notes.\n",
    "To enter edit mode from command mode simply hit enter, or double click on a cell.\n",
    "The vertical bar to the left of the cell has diagonal lines in this mode.\n",
    "\n",
    "### Command Mode\n",
    "In command mode, you can delete cells, add cells, copy cells, paste cells, change cell types, and more.  \n",
    "The vertical bar to the left of the cell is solid in this mode."
   ],
   "metadata": {}
  },
  {
   "cell_type": "markdown",
   "source": [
    "## Adding and deleting cells\n",
    "\n",
    "You can add code and markdown cells by clicking on a cell - and hover on its outlines around the middle of the box. They are a bit tricky to find, but when, this two buttons appear:\n",
    "\n",
    "<img src=\"images/jupyter_add_cell.png\" width=\"250\">\n",
    "\n",
    "Wether you hover at the upper or the lower outline, the next cell will be placed before or after the actual cell you clicked.\n",
    "\n",
    "**Try it out yourself!**\n",
    "\n",
    "However, the easier and quicker way is to press *a* for adding a cell above and *b* for adding a cell below when having selected a cell in command mode.  \n",
    "\n",
    "For deleting a cell, select the corresponding cell in command mode and press two times *d*.  "
   ],
   "metadata": {}
  },
  {
   "cell_type": "markdown",
   "source": [
    "## Handling the Kernel\n",
    "You can use the Notebook Editor toolbar to restart and interrupt the Kernel."
   ],
   "metadata": {}
  },
  {
   "cell_type": "markdown",
   "source": [
    "### Stop Execution\n",
    "\n",
    "Long running python processes can be interrupted. \n",
    "<img src=\"images/jupyter_interrupt.png\" width=\"800\">\n",
    "Try it out:"
   ],
   "metadata": {}
  },
  {
   "cell_type": "code",
   "execution_count": null,
   "source": [
    "import time\n",
    "print(\"Sleeping\")\n",
    "time.sleep(30) # sleep for a while; interrupt me!\n",
    "print(\"Done Sleeping\")"
   ],
   "outputs": [],
   "metadata": {}
  },
  {
   "cell_type": "markdown",
   "source": [
    "Sometimes Notebooks can get a bit chaotic. You might encounter that in your first project. In order for you and others to go through your notebook smoothly, it is important that the cells are executed in the correct order (from top to bottom). To check if this is possible, we recommend that you run **Restart** and **Run All**.  \n",
    "\n",
    "<img src=\"images/jupyter_restart_runall.png\" width=\"800\">\n",
    "\n",
    "When you open a notebook, the cells might have already been executed. Please always **Clear Output** before starting working.\n",
    "<img src=\"images/jupyter_clear_output.png\" width=\"800\">  \n"
   ],
   "metadata": {}
  },
  {
   "cell_type": "markdown",
   "source": [
    "## Running Bash Commands\n",
    "\n",
    "We can also run bash commands just as we did before from the terminal directly within Jupyter Notebooks!  \n",
    " (Note: bash commands cannot be mixed with python and must be in their own cell block.)   \n",
    " \n",
    "Try it out!"
   ],
   "metadata": {}
  },
  {
   "cell_type": "code",
   "execution_count": null,
   "source": [
    "pwd"
   ],
   "outputs": [],
   "metadata": {}
  },
  {
   "cell_type": "code",
   "execution_count": null,
   "source": [
    "ls"
   ],
   "outputs": [],
   "metadata": {}
  },
  {
   "cell_type": "markdown",
   "source": [
    "## Autocomplete and getting Help\n",
    "\n",
    "\n",
    "In VSCode there is an autocomplete function. When you start typing code, you can see a subset of the available commands **when you press tap**. You can use \"enter\" to auto-complete the first command, otherwise you can use the arrow keys to scroll through all the commands and press \"enter\" to complete the command.\n",
    "\n",
    "\n",
    "<img src=\"images/jupyter_autocomplete.png\" width=\"500\">"
   ],
   "metadata": {}
  },
  {
   "cell_type": "markdown",
   "source": [
    "\n",
    "## Call Docstrings\n",
    "\n",
    "\n",
    "Docstring = Python documentation string; used in class, module, function, or method definition\n",
    "\n",
    "You can access the docstring by writing **?** after the method and executing the cell:\n",
    "\n",
    " <img src=\"images/jupyter_docstring.png\" width=\"550\">\n",
    "\n",
    " Hovering over a function gives you information about how to use the function correctly.\n",
    "\n",
    "**Try it out!**"
   ],
   "metadata": {}
  },
  {
   "cell_type": "markdown",
   "source": [
    "## Check your understanding! \n",
    "\n",
    "\n",
    "Try to do all these tasks with shortcuts! Of course, feel free to test other shortcuts to get more familiar with them too. \n",
    "\n",
    "1. Create a new cell below.\n",
    "2. Change the celltype to \"markdown\"\n",
    "3. Enter the cell and write \"print('Gratulation! You are now familiar with working with jupyter notebooks!')\" \n",
    "4. Exit the edit mode and change celltype to \"Code\"\n",
    "5. Copy the cell and paste it below.\n",
    "6. Delete the last cell again.\n",
    "7. Run the cell --> you're done :) \n",
    "\n"
   ],
   "metadata": {}
  }
 ],
 "metadata": {
  "interpreter": {
   "hash": "ba4aa5b6731245526cee8bf08223ac1337acfa142e834451379e94f1af805592"
  },
  "kernelspec": {
   "name": "python3",
   "display_name": "Python 3.8.5 64-bit ('nf_base': conda)"
  },
  "language_info": {
   "name": "python",
   "version": "3.8.5",
   "mimetype": "text/x-python",
   "codemirror_mode": {
    "name": "ipython",
    "version": 3
   },
   "pygments_lexer": "ipython3",
   "nbconvert_exporter": "python",
   "file_extension": ".py"
  }
 },
 "nbformat": 4,
 "nbformat_minor": 4
}