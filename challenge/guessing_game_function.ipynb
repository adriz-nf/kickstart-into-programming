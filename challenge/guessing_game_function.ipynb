{
 "cells": [
  {
   "attachments": {},
   "cell_type": "markdown",
   "metadata": {},
   "source": [
    "To open this notebook in Google Colab and start coding, click on the Colab icon below.\n",
    "\n",
    "<table style=\"border:2px solid orange\" align=\"left\">\n",
    "  <td style=\"border:2px solid orange \">\n",
    "    <a target=\"_blank\" href=\"https://colab.research.google.com/github/adriz-nf/kickstart-into-programming/blob/main/challenge/guessing_game_function.ipynb\"><img src=\"https://www.tensorflow.org/images/colab_logo_32px.png\" />Run in Google Colab</a>\n",
    "  </td>\n",
    " </table>"
   ]
  },
  {
   "attachments": {},
   "cell_type": "markdown",
   "metadata": {},
   "source": [
    "# Exercise to build a simple game\n",
    "\n",
    "For this assignment you'll use functions to build a guessing game. \n",
    "\n",
    "You will be prompted to build small functions that make up the individual components of the game and then build a function to put them all together into a game that you can play.\n",
    "\n",
    "Here is an example of what part of a solution to a game would like like. It is 2 functions that are then brought together in a third function that is run to play the game. \n",
    "\n",
    "```python \n",
    "# Write the function to get the players name\n",
    "def get_player_name(): \n",
    "    # Function code to solve the problem \n",
    "    return player_name\n",
    "\n",
    "# Write the function that does something with the players name\n",
    "def exciting_game_content(player_name):\n",
    "    # Function code to do something\n",
    "    return outcome\n",
    "\n",
    "# Write the code that brings the functions together\n",
    "def game_code():\n",
    "    print(\"Welcome to the game!)\n",
    "    player_name = get_player_name()\n",
    "    outcome = exciting_game_content(player_name)\n",
    "    if outcome == True:\n",
    "        print(\"You won!)\n",
    "    else: \n",
    "        print(\"You lost!)\n",
    "\n",
    "# Play the game by running the main function\n",
    "game_code()\n",
    "```\n",
    "\n",
    "\n",
    "### Pseudocode (Description of the solution without writing real code)\n",
    "This is the outline of what the program should do:\n",
    "\n",
    "Set the parameters of the game at the start:  \n",
    "    User says how many turns they want to guess before they lose. Nice to have: have ability to select an unlimited game.  \n",
    "    User determines the range of numbers from which the computer will select.  \n",
    "\n",
    "Randomly select an integer from a specified range and store in memory.  \n",
    "The user is asked to guess what the integer is.  \n",
    "If the inputted guess matches the number in memory the user wins!  \n",
    "Else the user is told whether the guess was too low or too high  \n",
    "and the user is asked again to make a guess.  \n",
    "This continues in a loop until the user guesses correctly or the number of guesses is exhausted.  \n"
   ]
  },
  {
   "attachments": {},
   "cell_type": "markdown",
   "metadata": {},
   "source": [
    "### Your Task\n",
    "Below are comments and code blocks that will help you complete the guessing game task.  \n",
    "To complete the task write the code directly under the comments to keep track of what you are doing.  \n",
    "You may need to edit the comments and your previous code blocks as you go along based on how your code develops.   \n",
    "You can also add new code blocks as you go along.  \n",
    "You can run the code in each code block by clicking on the \"Run\" button on the toolbar above.  \n",
    "Run the final code block to see if your game works as expected.  "
   ]
  },
  {
   "cell_type": "code",
   "execution_count": null,
   "metadata": {},
   "outputs": [],
   "source": [
    "# create a function the returns the user input of how many guesses should be allowed in the game\n"
   ]
  },
  {
   "cell_type": "code",
   "execution_count": null,
   "metadata": {},
   "outputs": [],
   "source": [
    "# create a function that returns the user input for minimum and maximum values of the range to be used in the game\n"
   ]
  },
  {
   "cell_type": "code",
   "execution_count": null,
   "metadata": {},
   "outputs": [],
   "source": [
    "\n",
    "#  create a function that returns a random value that is inside a given range\n"
   ]
  },
  {
   "cell_type": "code",
   "execution_count": null,
   "metadata": {},
   "outputs": [],
   "source": [
    "# create a function that returns a user input. Ensure that the input is a integer\n"
   ]
  },
  {
   "cell_type": "code",
   "execution_count": null,
   "metadata": {},
   "outputs": [],
   "source": [
    "# create a function that compares two numbers and prints a message based on if they are equal or if the second is lower or higher than the first. It should return True if there is a match otherwise false\n"
   ]
  },
  {
   "cell_type": "code",
   "execution_count": null,
   "metadata": {},
   "outputs": [],
   "source": [
    "# create a function that uses a loop that combines the 5 previous function into a single program that runs the guessing game. \n"
   ]
  },
  {
   "cell_type": "code",
   "execution_count": null,
   "metadata": {},
   "outputs": [],
   "source": [
    "# run the main function\n"
   ]
  }
 ],
 "metadata": {
  "kernelspec": {
   "display_name": "eda_env",
   "language": "python",
   "name": "python3"
  },
  "language_info": {
   "codemirror_mode": {
    "name": "ipython",
    "version": 3
   },
   "file_extension": ".py",
   "mimetype": "text/x-python",
   "name": "python",
   "nbconvert_exporter": "python",
   "pygments_lexer": "ipython3",
   "version": "3.9.7"
  },
  "toc": {
   "base_numbering": 1,
   "nav_menu": {},
   "number_sections": true,
   "sideBar": true,
   "skip_h1_title": false,
   "title_cell": "Table of Contents",
   "title_sidebar": "Contents",
   "toc_cell": false,
   "toc_position": {},
   "toc_section_display": true,
   "toc_window_display": false
  },
  "varInspector": {
   "cols": {
    "lenName": 16,
    "lenType": 16,
    "lenVar": 40
   },
   "kernels_config": {
    "python": {
     "delete_cmd_postfix": "",
     "delete_cmd_prefix": "del ",
     "library": "var_list.py",
     "varRefreshCmd": "print(var_dic_list())"
    },
    "r": {
     "delete_cmd_postfix": ") ",
     "delete_cmd_prefix": "rm(",
     "library": "var_list.r",
     "varRefreshCmd": "cat(var_dic_list()) "
    }
   },
   "types_to_exclude": [
    "module",
    "function",
    "builtin_function_or_method",
    "instance",
    "_Feature"
   ],
   "window_display": false
  },
  "vscode": {
   "interpreter": {
    "hash": "4441cb1c31c4c9af61191f957ee9ff03d02b5db9cbb804a231e192138a05ca64"
   }
  }
 },
 "nbformat": 4,
 "nbformat_minor": 4
}
